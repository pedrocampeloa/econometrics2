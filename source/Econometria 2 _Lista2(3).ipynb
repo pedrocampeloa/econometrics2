{
 "cells": [
  {
   "cell_type": "markdown",
   "metadata": {},
   "source": [
    "# Econometria II _ Lista de Exercícios 2"
   ]
  },
  {
   "cell_type": "markdown",
   "metadata": {},
   "source": [
    "- Aluna: Cristina Oliveira Roriz\n",
    "- matrícula: 21/0006552"
   ]
  },
  {
   "cell_type": "markdown",
   "metadata": {},
   "source": [
    "# Introdução"
   ]
  },
  {
   "cell_type": "markdown",
   "metadata": {},
   "source": [
    "Considere o modelo de Hansen e Singleton de precificação de ativos.\\footnote{Veja também por exemplo em Hayashi pp. 454-455.} Os autores assumem que um agente representativo escolhe uma trajetória de consumo ótima pela maximização do valor-presente descontado da função consumo:\n",
    "\n",
    "\\begin{equation}\n",
    "\\max_{t=1}^{\\infty} E[\\beta_0^t U(C_t)|I_t]   \n",
    "\\end{equation}\n",
    "\n",
    "Sujeito à restrição orçamentária:\n",
    "\\begin{equation}\n",
    " C_t + P_t Q_t \\le V_t Q_{t-1} +W_t   \n",
    "\\end{equation}\n",
    "\n",
    "Tal que $I_t$ representa o conjunto informação disponível no tempo t, $C_t$ representa o consumo real, $W_t$ a renda real do trabalho, $P_t$ o preço de um título livre de desconto (pure discount bond) com maturação em t + 1 que paga $V{t+1}$, $Q_t$ representa a quantidade de títulos mantidos em t, e $\\beta_0$ representa o fator de desconto intertemporal.\n",
    "\n",
    "A condição de primeira ordem deste problema pode ser representada como\n",
    "uma equação de momento condicional, i.e. equação de Euler condicional\n",
    "\n",
    "\\begin{equation}\n",
    "E \\bigg[(1+R_{t+1}) \\beta_0 \\frac{U'(C_{t+1})}{U'(C_t)} | I_t\\bigg] -1=0    \n",
    "\\end{equation}\n",
    "\n",
    "Tal que\n",
    "$$ 1 + R_{t+1} = \\frac{V_{t+1}}{V_t} $$\n",
    "\n",
    "representa o retorno bruto do título em $t+1$. Assumindo que a utilidade tem a forma\n",
    "\n",
    "$$U(C) = \\frac{C^{1-\\alpha_0}}{1-\\alpha_0} $$\n",
    "\n",
    "tal que $\\alpha_o$ representa a taxa intertemporal de substituição (aversão ao risco), então\n",
    "\n",
    "$$ \\frac{U'(C_{t+1})}{U'(C_t)} = (\\frac{C_{t+1}}{C_t})^{-\\alpha_0} $$\n",
    "\n",
    "Então a (3) pode ser escrita como:\n",
    "\n",
    "\\begin{equation}\n",
    "E \\bigg[(1+R_{t+1}) \\beta_0 (\\frac{C_{t+1}}{C_t})^{-\\alpha_0} | I_t\\bigg] -1=0\n",
    "\\end{equation}\n",
    "\n",
    "O termo de erro não-linear pode ser definido como:\n",
    "\n",
    "\\begin{equation}\n",
    "  \\begin{aligned}\n",
    "    \\epsilon_{t+1} \n",
    "        & = a(R_{t+1},\\frac{C_{t+1}}{C_t};\\alpha_0,\\beta_0) \\\\\n",
    "        & = (1+R_{t+1}) \\beta_0 (\\frac{C_{t+1}}{C_t})^{-\\alpha_0}-1 \\\\\n",
    "        & = a(Z_{t+1};\\theta_0),    \n",
    "\\end{aligned}\n",
    "\\end{equation}\n",
    "\n",
    "tal que $ Z_{t+1}= (R_{t+1},\\frac{C_{t+1}}{C_t})'$  e $\\theta_0 =(\\alpha_0,\\beta_0)'$.\n",
    "\n",
    "\n",
    "Neste caso, a equação de momento condicional pode ser representada\n",
    "como:\n",
    "\n",
    "\\begin{equation}\n",
    "E [(\\epsilon_{t+1})| I_t]= E [a(Z_{t+1};\\theta_0)=0  | I_t]   \n",
    "\\end{equation}\n",
    "\n",
    "As séries ${\\epsilon_{t+1},I_{t+1}}$ são processos sequências martingale \\footnote{Em teoria das probabilidades, um martingale é um modelo de jogo honesto (fair game) em que o conhecimento de eventos passados nunca ajuda a prever os ganhos futuros e apenas o evento atual importa. Em particular, um martingale é uma sequência de variáveis aleatórias (isto é, um processo estocástico) para o qual, a qualquer tempo específico na sequência observada, a esperança do próximo valor na sequência é igual ao valor presentemente observado, mesmo dado o conhecimento de todos os valores anteriormente observados.} em diferenças,instrumentos em potencial $x_t$ incluem uma constante e os elementos contemporâneos e defasados de $z$. Como $x_t \\subset I_t$, a condição de momento condicional é\n",
    "\n",
    "\\begin{equation}\n",
    "E [(\\epsilon_{t+1})| I_t]= E [x_ta(Z_{t+1};\\theta_0)| I_t] =0    \n",
    "\\end{equation}\n",
    "\n",
    "e pela lei das expectativas totais se tem\n",
    "\n",
    "\\begin{equation}\n",
    "E [x_t\\epsilon_{t+1}]= 0    \n",
    "\\end{equation}"
   ]
  },
  {
   "cell_type": "markdown",
   "metadata": {},
   "source": [
    "## Estimativa"
   ]
  },
  {
   "cell_type": "markdown",
   "metadata": {},
   "source": [
    "Para a estimativa GMM, defina o resíduo como em (5), mas substituindo os coeficientes pelas estimativas, $(\\alpha, \\beta)$:\n",
    "\n",
    "\\begin{equation}\n",
    "  \\begin{aligned}\n",
    "    \\epsilon_{t+1} \n",
    "        & = \\left (1+R_{t+1}\\right) \\beta \\left(\\frac{C_{t+1}}{C_t}\\right)^{-\\alpha}-1 \\\\\n",
    "\\end{aligned}\n",
    "\\end{equation}\n",
    "\n",
    "e formar o vetor de momentos\n",
    "\n",
    "\\begin{equation}\n",
    "  \\begin{aligned}\n",
    "        g(w_{t+1};\\theta) \n",
    "        & = x_t \\epsilon_{t+1} \\\\\n",
    "        & = x_t a(z_{t+1}; \\theta_0)\n",
    "    \\end{aligned}\n",
    "\\end{equation}\n",
    "\n",
    "Se o vetor de instrumentos for $x_t = \\left(1, \\left(\\frac{C_{t}}{C_t-1}\\right), \\left(\\frac{C_{t-1}}{C_t-2}\\right), R_t, R_{t-1} \\right)$. Então (10) pode ser escrita como:\n",
    "\n",
    "\n",
    "\\begin{eqnarray}\n",
    "g(w_{t+1})= \\begin{pmatrix} \n",
    "  \\bigg((1+ R_{t+1})\\beta\\left(\\frac{C_{t+1}}{C_t}\\right)^{-\\alpha}-1\\bigg) \\\\\n",
    "  \\dfrac{C_t}{C_{t-1}}\\bigg((1+ R_{t+1})\\beta\\left(\\frac{C_{t+1}}{C_t}\\right)^{-\\alpha}-1\\bigg)\\\\\n",
    "  \\dfrac{C_{t-1}}{C_{t-2}}\\bigg((1+ R_{t+1})\\beta\\left(\\frac{C_{t+1}}{C_t}\\right)^{-\\alpha}-1\\bigg)\\\\\n",
    "  R_t\\bigg((1+ R_{t+1})\\beta\\left(\\frac{C_{t+1}}{C_t}\\right)^{-\\alpha}-1\\bigg)\\\\ \n",
    "  R_{t-1}\\bigg((1+ R_{t+1})\\beta\\left(\\frac{C_{t+1}}{C_t}\\right)^{-\\alpha}-1\\bigg)\n",
    "  \\end{pmatrix}\n",
    "\\end{eqnarray}\n",
    "\n",
    "Então as condições de momento se tem K=5 para identificar L=2 parâmetros dando K-L=3 restrições sobre-identificadas."
   ]
  },
  {
   "cell_type": "markdown",
   "metadata": {},
   "source": [
    "## Extensão"
   ]
  },
  {
   "cell_type": "markdown",
   "metadata": {},
   "source": [
    "Esse modelo pode ser expandido, permitindo que o indivíduo invista em $J$ ativos arriscados com retornos $R_{j,t+1}$ (j = 1, ..., J), bem como em um ativo livre de risco $f$ com retorno $R_{f,t+1}$. Restringindo a atenção para os momentos não condicionais inicialmente, isto é $x_t = 1$, o sistema de equações de Euler pode ser escrito como\n",
    "\n",
    "\\begin{equation}\n",
    "    E\\bigg[(1+R_{f,t+1})\\beta_0\\bigg(\\frac{C_{t+1}}{C_t}\\bigg)^{-\\alpha_0}|I_t\\bigg]-1=0\n",
    "\\end{equation}\n",
    "\n",
    "\\begin{equation}\n",
    "    E\\bigg[(R_{j,t+1}-R_{f,t+1})\\beta_0\\bigg(\\frac{C_{t+1}}{C_t}\\bigg)^{-\\alpha_0}|I_t\\bigg]-1=0\n",
    "\\end{equation}\n",
    "\n",
    "tal que $j=1,...,J$. Defina o fator de desconto estocástico como:\n",
    "\n",
    "$$m_{t+1}({\\theta_0})=\\beta_0{\\dfrac{C_{t+1}}{C_t}}^{-\\infty_0}$$\n",
    "\n",
    "Portanto, o ativo com risco satisfaz:\n",
    "\n",
    "\\begin{equation}\n",
    "    E[(R_{j,t+1}-R_{f,t+1})\\times m_{t+1}(\\theta_0)]=0\n",
    "\\end{equation}\n",
    "\n",
    "Usando a identidade $E[xy] = cov(x, y) + E[x]E[y]$, o prêmio de risco para o ativo arriscado pode ser escrito como:\n",
    "\n",
    "\\begin{equation}\n",
    "    E[(R_{j,t+1}-R_{f,t+1})]=-\\frac{Cov\\bigg(m_{t+1}(\\theta_0),(R_{j,t+1}-R_{f,t+1})\\bigg)}{E[m_{t+1}(\\theta_0)]}\n",
    "\\end{equation}\n",
    "\n",
    "Se o modelo for correto, então o lado direito deve explicar a variação \\textit{cross-section} no retorno esperado entre ativos."
   ]
  },
  {
   "cell_type": "markdown",
   "metadata": {},
   "source": [
    "## Procedimentos iniciais: instalação de pacotes e upload dos dados"
   ]
  },
  {
   "cell_type": "code",
   "execution_count": 1,
   "metadata": {},
   "outputs": [],
   "source": [
    "#Procedimentos iniciais\n",
    "\n",
    "#Importando pacotes\n",
    "import pandas as pd\n",
    "import numpy as np\n",
    "from scipy.linalg import block_diag\n",
    "from scipy.optimize import least_squares\n",
    "\n",
    "\n",
    "import xlrd\n",
    "import matplotlib.pyplot as plt\n",
    "\n",
    "import statsmodels.api as sm\n",
    "from statsmodels.sandbox.regression.gmm import IV2SLS\n",
    "from statsmodels.sandbox.regression.gmm import GMM\n",
    "\n",
    "from scipy import stats\n",
    "from scipy.optimize import minimize\n",
    "from tabulate import tabulate\n",
    "\n",
    "import os\n",
    "import scipy.optimize"
   ]
  },
  {
   "cell_type": "code",
   "execution_count": 2,
   "metadata": {},
   "outputs": [],
   "source": [
    "#Upload dos dados\n",
    "\n",
    "#Mudando caminho\n",
    "root_path =  'C:\\\\Users\\\\diogo\\\\Documents\\\\Cristina\\\\Econometria_II\\\\'\n",
    "os.chdir(root_path)\n",
    "\n",
    "#Abrindo Excel\n",
    "full_name = os.path.join(root_path, \"L2_data.xlsx\")\n",
    "df = pd.read_excel(full_name)"
   ]
  },
  {
   "cell_type": "markdown",
   "metadata": {},
   "source": [
    "# Questão 1: \n",
    "Estime o modelo formado pelo erro da equação (10) assumindo que os instrumentos são $x_t= (1,(C_t/C_{t+1} - AVG(C_t/C_{t+1})),(R_t - AVG(R_t)))′$ e estime $θ= (\\alpha,\\beta)′$.  Faça  apenas as estimativas dos parâmetros (sem calcular o desvio-padrão).  Utilize como guess inicial $\\alpha_0 =0.5$ e $\\beta_0= 0.9$.\n",
    "\n"
   ]
  },
  {
   "cell_type": "markdown",
   "metadata": {},
   "source": [
    "As variaveis de interesse neste problema são:\n",
    "- Consumo (c )\n",
    "- Retorno ativo livre de risco (rf)\n",
    "- Retorno ativo de risco (r)\n",
    "- Crescimento do consumo em relação ao período anterior (w).  \n",
    "\n",
    "A base de dados é composta por 103 observações. As estatítisticas descritivas bem como tabela com apresentação dos dados são a seguir apresentadas. "
   ]
  },
  {
   "cell_type": "code",
   "execution_count": 3,
   "metadata": {},
   "outputs": [
    {
     "data": {
      "text/html": [
       "<div>\n",
       "<style scoped>\n",
       "    .dataframe tbody tr th:only-of-type {\n",
       "        vertical-align: middle;\n",
       "    }\n",
       "\n",
       "    .dataframe tbody tr th {\n",
       "        vertical-align: top;\n",
       "    }\n",
       "\n",
       "    .dataframe thead th {\n",
       "        text-align: right;\n",
       "    }\n",
       "</style>\n",
       "<table border=\"1\" class=\"dataframe\">\n",
       "  <thead>\n",
       "    <tr style=\"text-align: right;\">\n",
       "      <th></th>\n",
       "      <th>c</th>\n",
       "      <th>div</th>\n",
       "      <th>r</th>\n",
       "      <th>rf</th>\n",
       "      <th>trm</th>\n",
       "      <th>w</th>\n",
       "    </tr>\n",
       "  </thead>\n",
       "  <tbody>\n",
       "    <tr>\n",
       "      <th>count</th>\n",
       "      <td>103.000000</td>\n",
       "      <td>103.000000</td>\n",
       "      <td>103.000000</td>\n",
       "      <td>103.000000</td>\n",
       "      <td>103.000000</td>\n",
       "      <td>103.000000</td>\n",
       "    </tr>\n",
       "    <tr>\n",
       "      <th>mean</th>\n",
       "      <td>0.052438</td>\n",
       "      <td>0.046456</td>\n",
       "      <td>1.107390</td>\n",
       "      <td>1.018895</td>\n",
       "      <td>-0.001438</td>\n",
       "      <td>1.017846</td>\n",
       "    </tr>\n",
       "    <tr>\n",
       "      <th>std</th>\n",
       "      <td>0.027309</td>\n",
       "      <td>0.014549</td>\n",
       "      <td>0.187953</td>\n",
       "      <td>0.052588</td>\n",
       "      <td>0.014455</td>\n",
       "      <td>0.033541</td>\n",
       "    </tr>\n",
       "    <tr>\n",
       "      <th>min</th>\n",
       "      <td>0.018585</td>\n",
       "      <td>0.000000</td>\n",
       "      <td>0.520819</td>\n",
       "      <td>0.833753</td>\n",
       "      <td>-0.052820</td>\n",
       "      <td>0.912430</td>\n",
       "    </tr>\n",
       "  </tbody>\n",
       "</table>\n",
       "</div>"
      ],
      "text/plain": [
       "                c         div           r          rf         trm           w\n",
       "count  103.000000  103.000000  103.000000  103.000000  103.000000  103.000000\n",
       "mean     0.052438    0.046456    1.107390    1.018895   -0.001438    1.017846\n",
       "std      0.027309    0.014549    0.187953    0.052588    0.014455    0.033541\n",
       "min      0.018585    0.000000    0.520819    0.833753   -0.052820    0.912430"
      ]
     },
     "execution_count": 3,
     "metadata": {},
     "output_type": "execute_result"
    }
   ],
   "source": [
    "# Criando Tabela com Estatísticas Descritivas\n",
    "\n",
    "stats= df.describe()\n",
    "\n",
    "stats.head(4)"
   ]
  },
  {
   "cell_type": "code",
   "execution_count": 34,
   "metadata": {
    "scrolled": true
   },
   "outputs": [
    {
     "name": "stdout",
     "output_type": "stream",
     "text": [
      "            C         W        RF         R\n",
      "0    0.019123  1.000000  1.000000  1.000000\n",
      "1    0.018585  0.971878  1.068708  0.939690\n",
      "2    0.019520  1.050310  1.091488  1.190198\n",
      "3    0.019889  1.018900  1.060493  1.063168\n",
      "4    0.020015  1.006372  1.077120  0.815963\n",
      "..        ...       ...       ...       ...\n",
      "98   0.109069  1.022751  1.019367  1.050143\n",
      "99   0.111543  1.022680  1.028319  1.160724\n",
      "100  0.112473  1.008341  1.034189  1.299132\n",
      "101  0.112856  1.003407  1.022294  0.969993\n",
      "102  0.111824  0.990852  1.019842  1.292026\n",
      "\n",
      "[103 rows x 4 columns]\n"
     ]
    }
   ],
   "source": [
    "# Tabela para checagem das variáveis\n",
    "\n",
    "Tab=pd.DataFrame ([df.c,df.w,df.rf,df.r], \\\n",
    "                  index=['C','W','RF',\\\n",
    "                         'R'])\n",
    "Tab= Tab.transpose()\n",
    "\n",
    "print(Tab)"
   ]
  },
  {
   "cell_type": "markdown",
   "metadata": {},
   "source": [
    "Note que a primeira observação apresenta valor um para as variáveis w, RF e R. Optamos por desconsiderar essa primeira observação da base e iniciarmos nossos instrumentos em t=2. Além disso, como o erro está em t+1, teremos t máximo até 102. Logo, nossa amostra terá 101 observações.  \n",
    "\n",
    "Assim,os vetores que armazenam crescimento do consumo em t, crescimento do consumo em t+1, retorno livre de risco em t e retorno livre de risco em t+1 e  o número de observações n são definidos como:"
   ]
  },
  {
   "cell_type": "code",
   "execution_count": 36,
   "metadata": {},
   "outputs": [
    {
     "name": "stdout",
     "output_type": "stream",
     "text": [
      "     consump_t  consump_t1    c_rate  return_t1\n",
      "0     0.018585    0.019520  1.050310   1.068708\n",
      "1     0.019520    0.019889  1.018900   1.091488\n",
      "2     0.019889    0.020015  1.006372   1.060493\n",
      "3     0.020015    0.019131  0.955793   1.077120\n",
      "4     0.019131    0.020962  1.095734   1.095320\n",
      "..         ...         ...       ...        ...\n",
      "96    0.106643    0.109069  1.022751   1.035585\n",
      "97    0.109069    0.111543  1.022680   1.019367\n",
      "98    0.111543    0.112473  1.008341   1.028319\n",
      "99    0.112473    0.112856  1.003407   1.034189\n",
      "100   0.112856    0.111824  0.990852   1.022294\n",
      "\n",
      "[101 rows x 4 columns]\n"
     ]
    }
   ],
   "source": [
    "# Número de observações\n",
    "n = len(df.c)-2\n",
    "\n",
    "#Definição da variáveis\n",
    "\n",
    "return_t = np.asarray(df.rf[1:102])\n",
    "\n",
    "return_t1 = np.asarray(df.rf[2:103]) #t+1\n",
    "\n",
    "consump_t = np.asarray(df.c[1:102]) \n",
    "\n",
    "consump_t1 = np.asarray(df.c[2:103]) #t+1\n",
    "\n",
    "c_rate= consump_t1/consump_t\n",
    "\n",
    "Tab2=pd.DataFrame ([consump_t, consump_t1,c_rate,return_t], index=['consump_t', 'consump_t1','c_rate','return_t1'])\n",
    "Tab2= Tab2.transpose()\n",
    "print(Tab2)\n"
   ]
  },
  {
   "cell_type": "markdown",
   "metadata": {},
   "source": [
    "Conforme definido no enunciado, o vetor de instrumentos é dado por:\n",
    "\n",
    "\n",
    "$$X_t= \\bigg(1,\\bigg(\\frac{C_t}{C_{t+1}}-AVG\\bigg(\\frac{C_t}{C_{t+1}}\\bigg)\\bigg),(R_t -AVG(R_t))\\bigg)^′$$\n",
    "\n",
    "\n",
    "\n",
    "$$X_t = (CONSTANT, CONSUMP, RETURN)'$$"
   ]
  },
  {
   "cell_type": "code",
   "execution_count": 41,
   "metadata": {},
   "outputs": [
    {
     "name": "stdout",
     "output_type": "stream",
     "text": [
      "Dimensão Instrumentos (101, 3)\n",
      "<class 'numpy.ndarray'>\n"
     ]
    }
   ],
   "source": [
    "#Definição dos instrutmentos\n",
    "\n",
    "CONSTANT = np.asarray([1]*n)\n",
    "\n",
    "CONSUMP= np.asarray(c_rate-np.mean(c_rate))\n",
    "\n",
    "RETURN = np.asarray(return_t-np.mean(return_t))\n",
    "\n",
    "# Vetor de instrumentos\n",
    "\n",
    "X= [CONSTANT,CONSUMP, RETURN] \n",
    "\n",
    "#Convertendo X em array\n",
    "\n",
    "X= np.asarray(X).transpose()\n",
    "\n",
    "#Parâmetros - Chute Inicial \n",
    "\n",
    "teta =[0.5,0.9]\n",
    "\n",
    "print ('Dimensão Instrumentos',np.shape(X))\n",
    "print (type(X))"
   ]
  },
  {
   "cell_type": "markdown",
   "metadata": {},
   "source": [
    "Fazemos, então, a estimação de primeiro estagio do GMM. A matriz ponderadora é definida como $\\hat{W}= S_{xx}^{-1}$ e pode ser obtida por:\n",
    "    \n",
    "$$\\hat{W}= (X_t'*X_t/n)^{-1}$$"
   ]
  },
  {
   "cell_type": "code",
   "execution_count": 6,
   "metadata": {},
   "outputs": [
    {
     "name": "stdout",
     "output_type": "stream",
     "text": [
      "(3, 3)\n",
      "<class 'numpy.ndarray'>\n",
      "[[1.00000000e+00 1.71337850e-13 4.09690224e-14]\n",
      " [1.71337850e-13 9.22162426e+02 9.11182619e+01]\n",
      " [4.09690224e-14 9.11182619e+01 3.67514005e+02]]\n"
     ]
    }
   ],
   "source": [
    "#Gerando a Matriz Ponderadora\n",
    "\n",
    "W_hat = np.linalg.inv(np.matmul(X.transpose(),X))/n\n",
    "\n",
    "\n",
    "print (np.shape(W_hat))\n",
    "print (type(W_hat))\n",
    "print(W_hat)\n"
   ]
  },
  {
   "cell_type": "markdown",
   "metadata": {},
   "source": [
    "A equação de erro é dada por:\n",
    "    \n",
    "$$\\epsilon_{t+1}=(1+R_{t+1})\\beta \\bigg(\\frac{C_{t+1}}{C_t}\\bigg)^{-\\alpha}-1 $$\n"
   ]
  },
  {
   "cell_type": "code",
   "execution_count": 7,
   "metadata": {},
   "outputs": [
    {
     "name": "stdout",
     "output_type": "stream",
     "text": [
      "(101,)\n",
      "<class 'numpy.ndarray'>\n"
     ]
    }
   ],
   "source": [
    "#Calculando vetor de erro\n",
    "\n",
    "erro= np.asarray((1+return_t1)*teta[1]*(c_rate)**(-teta[0])-1)\n",
    "\n",
    "print(np.shape(erro))\n",
    "print(type(erro))\n",
    "#print (erro)"
   ]
  },
  {
   "cell_type": "markdown",
   "metadata": {},
   "source": [
    "Sendo n=101,o vetor de erro terá dimensão 101×1. Logo, o vetor de momentos, de dimensão 3×1 é dado por:\n",
    "\n",
    "$$g_n(θ)≡ \\frac{1}{n}\\sum^{n+1}_{t=2}g(w_t,\\theta)=\\frac{1}{n}\\sum^{n+1}_{t=2}x_t\\epsilon_{t+1}$$\n",
    "\n",
    "Podendo ser calculado como $g= x' * \\epsilon_{t+1}$."
   ]
  },
  {
   "cell_type": "code",
   "execution_count": 42,
   "metadata": {},
   "outputs": [
    {
     "name": "stdout",
     "output_type": "stream",
     "text": [
      "Dimensão X: (101, 3)\n",
      "Dimensão W: (3, 3)\n",
      "Dimensão Erro: (101,)\n",
      "Dimensão g: (3,)\n",
      "Vetor de Momentos g: [ 0.80098082 -0.00113703  0.00154357]\n"
     ]
    }
   ],
   "source": [
    "#Calculando g\n",
    "\n",
    "g = np.matmul(X.transpose(),erro)/n\n",
    "\n",
    "print('Dimensão X:',np.shape(X))\n",
    "print('Dimensão W:',np.shape(W_hat))\n",
    "print('Dimensão Erro:',np.shape(erro))\n",
    "print('Dimensão g:',np.shape(g))\n",
    "print('Vetor de Momentos g:',g)\n"
   ]
  },
  {
   "cell_type": "markdown",
   "metadata": {},
   "source": [
    "E assim, queremos encontrar o vetor de parãmetros $\\theta$ tal que: \n",
    "\n",
    "$$\\hat{\\theta}= argmin\\quad n.g_n(\\theta)'\\hat{W}g_n(\\theta)$$\n"
   ]
  },
  {
   "cell_type": "code",
   "execution_count": 49,
   "metadata": {},
   "outputs": [
    {
     "name": "stdout",
     "output_type": "stream",
     "text": [
      "Optimization terminated successfully.\n",
      "         Current function value: 0.000171\n",
      "         Iterations: 110\n",
      "         Function evaluations: 229\n",
      "[-0.0696553   0.49469967]\n"
     ]
    }
   ],
   "source": [
    "#Fazendo a otimização da função objetivo\n",
    "\n",
    "#fmin = lambda x: np.matmul(np.matmul(n*g.transpose(),W_hat),g)\n",
    "\n",
    "fobj = lambda x: n*np.matmul(np.matmul(n*np.matmul(X.transpose(),(np.asarray((1+return_t1)*x[1]*(c_rate)**(-x[0])-1)))/n,\\\n",
    "                            np.linalg.inv(np.matmul(X.transpose(),X)))/n,\\\n",
    "                           np.matmul(X.transpose(),(np.asarray((1+return_t1)*x[1]*(c_rate)**(-x[0])-1))))/n \n",
    "\n",
    "X_otm = scipy.optimize.fmin(func=fobj, x0=teta, xtol=10**(-12),ftol=10**(-12),maxiter=10**6)\n",
    "#Xopt = scipy.optimize.fmin(func=fmin, x0=teta)\n",
    "\n",
    "print (X_otm)\n"
   ]
  },
  {
   "cell_type": "markdown",
   "metadata": {},
   "source": [
    "# Questão 2 \n",
    "\n",
    "Usando os instrumentos $x_t = 1$, a estimativa GMM pode ser realizada usando os J + 1 vetor dos momentos:\n",
    "\n",
    "\n",
    "\\begin{eqnarray}\n",
    "g(w_{t+1})= \\begin{pmatrix} \n",
    "  (1+ R_{f,t+1})\\beta_0\\left(\\frac{C_{t+1}}{C_t}\\right)^{-\\alpha}-1 \\\\\n",
    "  (R_{1,t+1}-R_{f,t+1})\\beta_0 \\left(\\frac{C_{t+1}}{C_t}\\right)^{-\\alpha}-1\\\\\n",
    "  \\vdots \\\\\n",
    "  (R_{J,t+1}-R_{f,t+1})\\beta_0 \\left(\\frac{C_{t+1}}{C_t}\\right)^{-\\alpha}-1\\\\ \n",
    "  \\end{pmatrix}\n",
    "\\end{eqnarray}\n",
    "\n",
    "Usando estes momentos, estime $\\theta$."
   ]
  },
  {
   "cell_type": "markdown",
   "metadata": {},
   "source": [
    "A base de dados contém, além do dado de consumo, o dado de crescimento do consumo em relação ao período anterior (w). Utilizando esse dado ainda é preciso desconsiderar a primeira observação da base, porém, ao contrário do exercício anterior, é possível utilizar até o último dado da série. Dessa forma, temos agora n=102."
   ]
  },
  {
   "cell_type": "code",
   "execution_count": 10,
   "metadata": {},
   "outputs": [
    {
     "name": "stdout",
     "output_type": "stream",
     "text": [
      "     CRESCIM_C1  RETURN_RF1  RETURN_R1\n",
      "0      0.971878    1.068708   0.939690\n",
      "1      1.050310    1.091488   1.190198\n",
      "2      1.018900    1.060493   1.063168\n",
      "3      1.006372    1.077120   0.815963\n",
      "4      0.955793    1.095320   1.034608\n",
      "..          ...         ...        ...\n",
      "97     1.022751    1.019367   1.050143\n",
      "98     1.022680    1.028319   1.160724\n",
      "99     1.008341    1.034189   1.299132\n",
      "100    1.003407    1.022294   0.969993\n",
      "101    0.990852    1.019842   1.292026\n",
      "\n",
      "[102 rows x 3 columns]\n"
     ]
    }
   ],
   "source": [
    "#Definição das Variáveis\n",
    "\n",
    "CRESCIM_C1 = np.asarray(df.w[1:103]) #t+1\n",
    "\n",
    "RETURN_RF1 = np.asarray(df.rf[1:103])  #t+1\n",
    "\n",
    "RETURN_R1 = np.asarray(df.r[1:103])  #t+1\n",
    "\n",
    "\n",
    "TAB=pd.DataFrame ([CRESCIM_C1,RETURN_RF1,RETURN_R1], index=['CRESCIM_C1','RETURN_RF1','RETURN_R1'])\n",
    "TAB= TAB.transpose()\n",
    "print(TAB)"
   ]
  },
  {
   "cell_type": "markdown",
   "metadata": {},
   "source": [
    "Como $x_t= 1$, a matriz ponderadora é igual a 1, de modo que temos um caso de minimização de g’.g, equivalente a um Non Linear Least Squares.\n",
    "\n",
    "Em nossa base, temos o retorno do ativo de risco (r), sendo J=1. Logo, teremos g(w_{t+1}) com J+1=2 momentos sendo:\n",
    "\n",
    "\n",
    "\\begin{eqnarray}\n",
    "g(w_{t+1})= \\begin{pmatrix} \n",
    "  (1+ R_{f,t+1})\\beta_0\\left(\\frac{C_{t+1}}{C_t}\\right)^{-\\alpha}-1 \\\\\n",
    "  (R_{1,t+1}-R_{f,t+1})\\beta_0 \\left(\\frac{C_{t+1}}{C_t}\\right)^{-\\alpha}-1\\\\\n",
    "  \\end{pmatrix}\n",
    "\\end{eqnarray}\n",
    "\n",
    "Como apresentado na introdução, podemos fazer: \n",
    "\n",
    "\\begin{eqnarray}\n",
    "g(w_{t+1})= \\begin{bmatrix} \n",
    "  (1+ R_{f,t+1}) \\times m_{t+1}(\\theta)-1 \\\\\n",
    "  (R_{1,t+1}-R_{f,t+1})\\times m_{t+1}(\\theta)-1\\\\\n",
    "  \\end{bmatrix}\n",
    "\\end{eqnarray}\n",
    "\n",
    "onde $m_{t+1}(\\theta)=\\beta_0\\left(\\frac{C_{t+1}}{C_t}\\right)^{-\\alpha}$"
   ]
  },
  {
   "cell_type": "code",
   "execution_count": 12,
   "metadata": {},
   "outputs": [
    {
     "name": "stdout",
     "output_type": "stream",
     "text": [
      "Dimensões m: ()\n",
      "Dimensões g: (2,)\n",
      "Vetor de Momentos g: [182.78764467   7.10918335]\n"
     ]
    }
   ],
   "source": [
    "#Calculando M_t+1\n",
    "\n",
    "m= lambda x: x[1]*CRESCIM_C1**(-x[0]) \n",
    "\n",
    "print('Dimensões m:',np.shape(m))\n",
    "\n",
    "#Calculando g(W_t+1)\n",
    "\n",
    "g = np.asarray([np.matmul((1+RETURN_RF1),m(teta))-1,np.matmul((RETURN_R1-RETURN_RF1),m(teta))-1])\n",
    "\n",
    "print('Dimensões g:',np.shape(g))\n",
    "print('Vetor de Momentos g:',g)\n"
   ]
  },
  {
   "cell_type": "markdown",
   "metadata": {},
   "source": [
    "De maneira análoga a Questão 1, queremos encontrar o vetor de parãmetros $\\theta$ tal que: \n",
    "\n",
    "$$\\hat{\\theta}= argmin\\quad n.g_n(\\theta)'g_n(\\theta)$$\n"
   ]
  },
  {
   "cell_type": "code",
   "execution_count": 54,
   "metadata": {},
   "outputs": [
    {
     "name": "stdout",
     "output_type": "stream",
     "text": [
      "3379648.2167811245\n",
      "Optimization terminated successfully.\n",
      "         Current function value: 91.855425\n",
      "         Iterations: 130\n",
      "         Function evaluations: 279\n",
      "[-9.20281863e+00  4.13156857e-03]\n"
     ]
    }
   ],
   "source": [
    "#Fazendo a otimização da função objetivo\n",
    "\n",
    "teta= [0.5,0.9]\n",
    "\n",
    "#Função objetivo é dada por:   fobj = lambda x: np.matmul(g.transpose(),g)\n",
    "\n",
    "#Substituindo as equações para g e m temos:\n",
    "\n",
    "fobj = lambda x: n*np.matmul(np.asarray([np.matmul((1+RETURN_RF1),x[1]*CRESCIM_C1**(-x[0]))-1,\\\n",
    "                                       np.matmul((RETURN_R1-RETURN_RF1),x[1]*CRESCIM_C1**(-x[0]))-1]).transpose(),\\\n",
    "                           np.asarray([np.matmul((1+RETURN_RF1),x[1]*CRESCIM_C1**(-x[0]))-1,\\\n",
    "                                       np.matmul((RETURN_R1-RETURN_RF1),x[1]*CRESCIM_C1**(-x[0]))-1]))\n",
    "print(fobj(teta))\n",
    "\n",
    "\n",
    "X_otm = scipy.optimize.fmin(func=fobj, x0=teta, xtol=10**(-12),ftol=10**(-12),maxiter=10**6)\n",
    "\n",
    "\n",
    "print (X_otm)\n",
    "\n",
    "#Parametros da função (https://docs.scipy.org/doc/scipy/reference/generated/scipy.optimize.fmin.html)\n",
    "#Default: scipy.optimize.fmin(func, x0, args=(), xtol=0.0001, ftol=0.0001, maxiter=None,\n",
    "#                    maxfun=None, full_output=0, disp=1, retall=0, callback=None, initial_simplex=None)\n"
   ]
  }
 ],
 "metadata": {
  "kernelspec": {
   "display_name": "Python 3",
   "language": "python",
   "name": "python3"
  },
  "language_info": {
   "codemirror_mode": {
    "name": "ipython",
    "version": 3
   },
   "file_extension": ".py",
   "mimetype": "text/x-python",
   "name": "python",
   "nbconvert_exporter": "python",
   "pygments_lexer": "ipython3",
   "version": "3.8.5"
  }
 },
 "nbformat": 4,
 "nbformat_minor": 5
}
